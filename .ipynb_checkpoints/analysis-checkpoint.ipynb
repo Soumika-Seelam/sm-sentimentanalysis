{
 "cells": [
  {
   "cell_type": "code",
   "execution_count": 3,
   "id": "83c8378a-0fd0-4ae1-aff2-8a8877b03eaa",
   "metadata": {},
   "outputs": [
    {
     "name": "stdout",
     "output_type": "stream",
     "text": [
      "done\n"
     ]
    }
   ],
   "source": [
    "import praw\n",
    "import pandas as pd\n",
    "\n",
    "import os\n",
    "from dotenv import load_dotenv\n",
    "\n",
    "# Load environment variables from .env\n",
    "load_dotenv()\n",
    "\n",
    "# Set up Reddit API credentials\n",
    "reddit = praw.Reddit(\n",
    "    client_id = os.getenv(\"CLIENT_ID\"),      # Replace with your Client ID\n",
    "    client_secret = os.getenv(\"CLIENT_SECRET\"),  # Replace with your Secret\n",
    "    user_agent=\"SM-SentimentAnalysis\"  # Replace with your app name\n",
    ")\n",
    "\n",
    "print(\"done\")"
   ]
  }
 ],
 "metadata": {
  "kernelspec": {
   "display_name": "Python 3 (ipykernel)",
   "language": "python",
   "name": "python3"
  },
  "language_info": {
   "codemirror_mode": {
    "name": "ipython",
    "version": 3
   },
   "file_extension": ".py",
   "mimetype": "text/x-python",
   "name": "python",
   "nbconvert_exporter": "python",
   "pygments_lexer": "ipython3",
   "version": "3.12.0"
  }
 },
 "nbformat": 4,
 "nbformat_minor": 5
}
