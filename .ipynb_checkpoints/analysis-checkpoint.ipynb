{
 "cells": [
  {
   "cell_type": "code",
   "execution_count": 12,
   "id": "5bcab6d2-31d6-4bcb-9015-09ec78715b34",
   "metadata": {},
   "outputs": [],
   "source": [
    "# Social Media Sentiment Analysis"
   ]
  },
  {
   "cell_type": "code",
   "execution_count": 13,
   "id": "43190c58-87e8-458c-af4f-3548b43dd56f",
   "metadata": {},
   "outputs": [],
   "source": [
    "## Environment Setup"
   ]
  },
  {
   "cell_type": "code",
   "execution_count": 14,
   "id": "83c8378a-0fd0-4ae1-aff2-8a8877b03eaa",
   "metadata": {},
   "outputs": [
    {
     "name": "stdout",
     "output_type": "stream",
     "text": [
      "Env Setup Done!\n"
     ]
    }
   ],
   "source": [
    "import praw\n",
    "import pandas as pd\n",
    "\n",
    "import os\n",
    "from dotenv import load_dotenv\n",
    "\n",
    "# Load environment variables from .env\n",
    "load_dotenv()\n",
    "\n",
    "# Set up Reddit API credentials\n",
    "reddit = praw.Reddit(\n",
    "    client_id = os.getenv(\"CLIENT_ID\"),      # Replace with your Client ID\n",
    "    client_secret = os.getenv(\"CLIENT_SECRET\"),  # Replace with your Secret\n",
    "    user_agent=\"SM-SentimentAnalysis\"  # Replace with your app name\n",
    ")"
   ]
  },
  {
   "cell_type": "code",
   "execution_count": 15,
   "id": "a1c824c4-c84c-44a4-aea0-74a11f6bab7f",
   "metadata": {},
   "outputs": [],
   "source": [
    "## Scraping Data"
   ]
  },
  {
   "cell_type": "code",
   "execution_count": null,
   "id": "ce64ec67-f8ba-40b6-8b0a-f55ed58ca1c4",
   "metadata": {},
   "outputs": [],
   "source": [
    "### Creating DataFrame"
   ]
  },
  {
   "cell_type": "code",
   "execution_count": 16,
   "id": "3562a789-2b90-4df1-bf01-b3323685b9e2",
   "metadata": {},
   "outputs": [
    {
     "name": "stdout",
     "output_type": "stream",
     "text": [
      "                                               Title Content  Score  Comments\n",
      "0  [Project] From books to presentations in 10s w...           8377       196\n",
      "1  [D] A Demo from 1993 of 32-year-old Yann LeCun...           6255       135\n",
      "2  [R] First Order Motion Model applied to animat...           4869       109\n",
      "3  [D] This AI reveals how much time politicians ...           4854       236\n",
      "4  [N] AI can turn old photos into moving Images ...           4795       230\n"
     ]
    }
   ],
   "source": [
    "# Select sentiment analysis topic\n",
    "subreddit = reddit.subreddit(\"MachineLearning\")\n",
    "\n",
    "# Then you fetch the posts\n",
    "posts = []\n",
    "for submission in subreddit.top(limit=100):  # Fetch top 100 posts\n",
    "    posts.append([\n",
    "        submission.title,       # Post title\n",
    "        submission.selftext,    # Post content\n",
    "        submission.score,       # Upvotes\n",
    "        submission.num_comments # Number of comments\n",
    "    ])\n",
    "\n",
    "# Convert the posts to a DataFrame\n",
    "df = pd.DataFrame(posts, columns=[\"Title\", \"Content\", \"Score\", \"Comments\"])\n",
    "print(df.head())\n"
   ]
  },
  {
   "cell_type": "code",
   "execution_count": 17,
   "id": "a5e15178-9f08-481e-b5c6-757826cad612",
   "metadata": {},
   "outputs": [],
   "source": [
    "### Saving Data"
   ]
  },
  {
   "cell_type": "code",
   "execution_count": 19,
   "id": "cfa2f5df-17a1-466e-99d8-699c571b0c7b",
   "metadata": {},
   "outputs": [
    {
     "name": "stdout",
     "output_type": "stream",
     "text": [
      "Data saved to reddit_mlposts.csv\n"
     ]
    }
   ],
   "source": [
    "# Save the DataFrame to a CSV file\n",
    "df.to_csv(\"reddit_ai_posts.csv\", index=False)\n",
    "print(\"Data saved to reddit_mlposts.csv\")"
   ]
  },
  {
   "cell_type": "code",
   "execution_count": null,
   "id": "e1fe5ca2-d038-4d47-94ea-468993332475",
   "metadata": {},
   "outputs": [],
   "source": []
  }
 ],
 "metadata": {
  "kernelspec": {
   "display_name": "Python 3 (ipykernel)",
   "language": "python",
   "name": "python3"
  },
  "language_info": {
   "codemirror_mode": {
    "name": "ipython",
    "version": 3
   },
   "file_extension": ".py",
   "mimetype": "text/x-python",
   "name": "python",
   "nbconvert_exporter": "python",
   "pygments_lexer": "ipython3",
   "version": "3.12.0"
  }
 },
 "nbformat": 4,
 "nbformat_minor": 5
}
