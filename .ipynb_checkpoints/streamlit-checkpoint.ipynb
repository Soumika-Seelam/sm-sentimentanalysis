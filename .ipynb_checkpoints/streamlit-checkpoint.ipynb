{
 "cells": [
  {
   "cell_type": "code",
   "execution_count": 9,
   "id": "26a1f84e-0b3a-49e8-ba2c-5d1dcb9cf98d",
   "metadata": {},
   "outputs": [],
   "source": [
    "# Streamlit Dashboard"
   ]
  },
  {
   "cell_type": "code",
   "execution_count": 10,
   "id": "edd357d8-f2ff-4f4c-b26a-530f47519525",
   "metadata": {},
   "outputs": [
    {
     "name": "stdout",
     "output_type": "stream",
     "text": [
      "                                               Title Content  Score  Comments  \\\n",
      "0  [Project] From books to presentations in 10s w...     NaN   8379       196   \n",
      "1  [D] A Demo from 1993 of 32-year-old Yann LeCun...     NaN   6249       135   \n",
      "2  [R] First Order Motion Model applied to animat...     NaN   4871       109   \n",
      "3  [D] This AI reveals how much time politicians ...     NaN   4854       236   \n",
      "4  [N] AI can turn old photos into moving Images ...     NaN   4795       230   \n",
      "\n",
      "                                       Cleaned_Title  Sentiment  \\\n",
      "0  project from books to presentations in s with ...     0.0000   \n",
      "1  d a demo from  of yearold yann lecun showing o...     0.0000   \n",
      "2  r first order motion model applied to animate ...     0.0000   \n",
      "3  d this ai reveals how much time politicians st...     0.0000   \n",
      "4  n ai can turn old photos into moving images  l...     0.3612   \n",
      "\n",
      "  Sentiment_Category  \n",
      "0            Neutral  \n",
      "1            Neutral  \n",
      "2            Neutral  \n",
      "3            Neutral  \n",
      "4           Positive  \n"
     ]
    }
   ],
   "source": [
    "# Categorize sentiment based on Sentiment scores\n",
    "def categorize_sentiment(score):\n",
    "    if score > 0.05:\n",
    "        return \"Positive\"\n",
    "    elif score < -0.05:\n",
    "        return \"Negative\"\n",
    "    else:\n",
    "        return \"Neutral\"\n",
    "\n",
    "# Create the Sentiment_Category column\n",
    "df[\"Sentiment_Category\"] = df[\"Sentiment\"].apply(categorize_sentiment)\n",
    "\n",
    "print(df.head())"
   ]
  },
  {
   "cell_type": "code",
   "execution_count": 11,
   "id": "87f0b0bb-8d19-4b4f-809d-fa6a5a06d9b1",
   "metadata": {},
   "outputs": [
    {
     "name": "stderr",
     "output_type": "stream",
     "text": [
      "2025-01-03 15:14:33.337 Thread 'MainThread': missing ScriptRunContext! This warning can be ignored when running in bare mode.\n",
      "2025-01-03 15:14:33.338 Thread 'MainThread': missing ScriptRunContext! This warning can be ignored when running in bare mode.\n",
      "2025-01-03 15:14:33.338 Thread 'MainThread': missing ScriptRunContext! This warning can be ignored when running in bare mode.\n",
      "2025-01-03 15:14:33.338 Thread 'MainThread': missing ScriptRunContext! This warning can be ignored when running in bare mode.\n",
      "2025-01-03 15:14:33.339 Thread 'MainThread': missing ScriptRunContext! This warning can be ignored when running in bare mode.\n",
      "2025-01-03 15:14:33.339 Thread 'MainThread': missing ScriptRunContext! This warning can be ignored when running in bare mode.\n",
      "2025-01-03 15:14:33.339 Thread 'MainThread': missing ScriptRunContext! This warning can be ignored when running in bare mode.\n",
      "2025-01-03 15:14:33.340 Thread 'MainThread': missing ScriptRunContext! This warning can be ignored when running in bare mode.\n",
      "2025-01-03 15:14:33.341 Thread 'MainThread': missing ScriptRunContext! This warning can be ignored when running in bare mode.\n",
      "2025-01-03 15:14:33.341 Thread 'MainThread': missing ScriptRunContext! This warning can be ignored when running in bare mode.\n",
      "2025-01-03 15:14:33.342 Thread 'MainThread': missing ScriptRunContext! This warning can be ignored when running in bare mode.\n",
      "2025-01-03 15:14:33.342 Thread 'MainThread': missing ScriptRunContext! This warning can be ignored when running in bare mode.\n",
      "2025-01-03 15:14:33.342 Thread 'MainThread': missing ScriptRunContext! This warning can be ignored when running in bare mode.\n",
      "2025-01-03 15:14:33.342 Thread 'MainThread': missing ScriptRunContext! This warning can be ignored when running in bare mode.\n",
      "2025-01-03 15:14:33.343 Thread 'MainThread': missing ScriptRunContext! This warning can be ignored when running in bare mode.\n",
      "2025-01-03 15:14:33.343 Thread 'MainThread': missing ScriptRunContext! This warning can be ignored when running in bare mode.\n"
     ]
    },
    {
     "ename": "KeyError",
     "evalue": "'Sentiment_Category'",
     "output_type": "error",
     "traceback": [
      "\u001b[0;31m---------------------------------------------------------------------------\u001b[0m",
      "\u001b[0;31mKeyError\u001b[0m                                  Traceback (most recent call last)",
      "File \u001b[0;32m~/Learn/Projects/sm-sentimentanalysis/venv/lib/python3.12/site-packages/pandas/core/indexes/base.py:3805\u001b[0m, in \u001b[0;36mIndex.get_loc\u001b[0;34m(self, key)\u001b[0m\n\u001b[1;32m   3804\u001b[0m \u001b[38;5;28;01mtry\u001b[39;00m:\n\u001b[0;32m-> 3805\u001b[0m     \u001b[38;5;28;01mreturn\u001b[39;00m \u001b[38;5;28;43mself\u001b[39;49m\u001b[38;5;241;43m.\u001b[39;49m\u001b[43m_engine\u001b[49m\u001b[38;5;241;43m.\u001b[39;49m\u001b[43mget_loc\u001b[49m\u001b[43m(\u001b[49m\u001b[43mcasted_key\u001b[49m\u001b[43m)\u001b[49m\n\u001b[1;32m   3806\u001b[0m \u001b[38;5;28;01mexcept\u001b[39;00m \u001b[38;5;167;01mKeyError\u001b[39;00m \u001b[38;5;28;01mas\u001b[39;00m err:\n",
      "File \u001b[0;32mindex.pyx:167\u001b[0m, in \u001b[0;36mpandas._libs.index.IndexEngine.get_loc\u001b[0;34m()\u001b[0m\n",
      "File \u001b[0;32mindex.pyx:196\u001b[0m, in \u001b[0;36mpandas._libs.index.IndexEngine.get_loc\u001b[0;34m()\u001b[0m\n",
      "File \u001b[0;32mpandas/_libs/hashtable_class_helper.pxi:7081\u001b[0m, in \u001b[0;36mpandas._libs.hashtable.PyObjectHashTable.get_item\u001b[0;34m()\u001b[0m\n",
      "File \u001b[0;32mpandas/_libs/hashtable_class_helper.pxi:7089\u001b[0m, in \u001b[0;36mpandas._libs.hashtable.PyObjectHashTable.get_item\u001b[0;34m()\u001b[0m\n",
      "\u001b[0;31mKeyError\u001b[0m: 'Sentiment_Category'",
      "\nThe above exception was the direct cause of the following exception:\n",
      "\u001b[0;31mKeyError\u001b[0m                                  Traceback (most recent call last)",
      "Cell \u001b[0;32mIn[11], line 20\u001b[0m\n\u001b[1;32m     18\u001b[0m st\u001b[38;5;241m.\u001b[39mheader(\u001b[38;5;124m\"\u001b[39m\u001b[38;5;124mSentiment Distribution\u001b[39m\u001b[38;5;124m\"\u001b[39m)\n\u001b[1;32m     19\u001b[0m st\u001b[38;5;241m.\u001b[39mwrite(\u001b[38;5;124m\"\u001b[39m\u001b[38;5;124mBar chart showing the count of posts in each sentiment category:\u001b[39m\u001b[38;5;124m\"\u001b[39m)\n\u001b[0;32m---> 20\u001b[0m sentiment_counts \u001b[38;5;241m=\u001b[39m \u001b[43mdf\u001b[49m\u001b[43m[\u001b[49m\u001b[38;5;124;43m\"\u001b[39;49m\u001b[38;5;124;43mSentiment_Category\u001b[39;49m\u001b[38;5;124;43m\"\u001b[39;49m\u001b[43m]\u001b[49m\u001b[38;5;241m.\u001b[39mvalue_counts()\n\u001b[1;32m     21\u001b[0m st\u001b[38;5;241m.\u001b[39mbar_chart(sentiment_counts)\n\u001b[1;32m     23\u001b[0m \u001b[38;5;66;03m# Section 3: Correlation Heatmap\u001b[39;00m\n",
      "File \u001b[0;32m~/Learn/Projects/sm-sentimentanalysis/venv/lib/python3.12/site-packages/pandas/core/frame.py:4102\u001b[0m, in \u001b[0;36mDataFrame.__getitem__\u001b[0;34m(self, key)\u001b[0m\n\u001b[1;32m   4100\u001b[0m \u001b[38;5;28;01mif\u001b[39;00m \u001b[38;5;28mself\u001b[39m\u001b[38;5;241m.\u001b[39mcolumns\u001b[38;5;241m.\u001b[39mnlevels \u001b[38;5;241m>\u001b[39m \u001b[38;5;241m1\u001b[39m:\n\u001b[1;32m   4101\u001b[0m     \u001b[38;5;28;01mreturn\u001b[39;00m \u001b[38;5;28mself\u001b[39m\u001b[38;5;241m.\u001b[39m_getitem_multilevel(key)\n\u001b[0;32m-> 4102\u001b[0m indexer \u001b[38;5;241m=\u001b[39m \u001b[38;5;28;43mself\u001b[39;49m\u001b[38;5;241;43m.\u001b[39;49m\u001b[43mcolumns\u001b[49m\u001b[38;5;241;43m.\u001b[39;49m\u001b[43mget_loc\u001b[49m\u001b[43m(\u001b[49m\u001b[43mkey\u001b[49m\u001b[43m)\u001b[49m\n\u001b[1;32m   4103\u001b[0m \u001b[38;5;28;01mif\u001b[39;00m is_integer(indexer):\n\u001b[1;32m   4104\u001b[0m     indexer \u001b[38;5;241m=\u001b[39m [indexer]\n",
      "File \u001b[0;32m~/Learn/Projects/sm-sentimentanalysis/venv/lib/python3.12/site-packages/pandas/core/indexes/base.py:3812\u001b[0m, in \u001b[0;36mIndex.get_loc\u001b[0;34m(self, key)\u001b[0m\n\u001b[1;32m   3807\u001b[0m     \u001b[38;5;28;01mif\u001b[39;00m \u001b[38;5;28misinstance\u001b[39m(casted_key, \u001b[38;5;28mslice\u001b[39m) \u001b[38;5;129;01mor\u001b[39;00m (\n\u001b[1;32m   3808\u001b[0m         \u001b[38;5;28misinstance\u001b[39m(casted_key, abc\u001b[38;5;241m.\u001b[39mIterable)\n\u001b[1;32m   3809\u001b[0m         \u001b[38;5;129;01mand\u001b[39;00m \u001b[38;5;28many\u001b[39m(\u001b[38;5;28misinstance\u001b[39m(x, \u001b[38;5;28mslice\u001b[39m) \u001b[38;5;28;01mfor\u001b[39;00m x \u001b[38;5;129;01min\u001b[39;00m casted_key)\n\u001b[1;32m   3810\u001b[0m     ):\n\u001b[1;32m   3811\u001b[0m         \u001b[38;5;28;01mraise\u001b[39;00m InvalidIndexError(key)\n\u001b[0;32m-> 3812\u001b[0m     \u001b[38;5;28;01mraise\u001b[39;00m \u001b[38;5;167;01mKeyError\u001b[39;00m(key) \u001b[38;5;28;01mfrom\u001b[39;00m \u001b[38;5;21;01merr\u001b[39;00m\n\u001b[1;32m   3813\u001b[0m \u001b[38;5;28;01mexcept\u001b[39;00m \u001b[38;5;167;01mTypeError\u001b[39;00m:\n\u001b[1;32m   3814\u001b[0m     \u001b[38;5;66;03m# If we have a listlike key, _check_indexing_error will raise\u001b[39;00m\n\u001b[1;32m   3815\u001b[0m     \u001b[38;5;66;03m#  InvalidIndexError. Otherwise we fall through and re-raise\u001b[39;00m\n\u001b[1;32m   3816\u001b[0m     \u001b[38;5;66;03m#  the TypeError.\u001b[39;00m\n\u001b[1;32m   3817\u001b[0m     \u001b[38;5;28mself\u001b[39m\u001b[38;5;241m.\u001b[39m_check_indexing_error(key)\n",
      "\u001b[0;31mKeyError\u001b[0m: 'Sentiment_Category'"
     ]
    }
   ],
   "source": [
    "import streamlit as st\n",
    "import pandas as pd\n",
    "import matplotlib.pyplot as plt\n",
    "\n",
    "# Load your data\n",
    "# Replace \"processed_reddit_ai_posts.csv\" with the actual filename of your dataset\n",
    "df = pd.read_csv(\"processed_reddit_ai_posts.csv\")\n",
    "\n",
    "# Dashboard Title\n",
    "st.title(\"Reddit Sentiment Analysis Dashboard\")\n",
    "\n",
    "# Section 1: Display Dataset\n",
    "st.header(\"Dataset Overview\")\n",
    "st.write(\"Here’s a preview of the dataset:\")\n",
    "st.dataframe(df.head())  # Display the first few rows of the DataFrame\n",
    "\n",
    "# Section 2: Sentiment Distribution\n",
    "st.header(\"Sentiment Distribution\")\n",
    "st.write(\"Bar chart showing the count of posts in each sentiment category:\")\n",
    "sentiment_counts = df[\"Sentiment_Category\"].value_counts()\n",
    "st.bar_chart(sentiment_counts)\n",
    "\n",
    "# Section 3: Correlation Heatmap\n",
    "st.header(\"Correlation Heatmap\")\n",
    "st.write(\"Visualizing relationships between key numerical features:\")\n",
    "\n",
    "# Correlation Plot\n",
    "import seaborn as sns\n",
    "fig, ax = plt.subplots()\n",
    "correlation = df[[\"Score\", \"Comments\", \"Sentiment\"]].corr()\n",
    "sns.heatmap(correlation, annot=True, cmap=\"coolwarm\", ax=ax)\n",
    "st.pyplot(fig)\n",
    "\n",
    "# Section 4: Filtered Data\n",
    "st.header(\"Filtered Data by Sentiment\")\n",
    "sentiment_filter = st.selectbox(\"Select Sentiment to Filter:\", df[\"Sentiment_Category\"].unique())\n",
    "filtered_data = df[df[\"Sentiment_Category\"] == sentiment_filter]\n",
    "st.write(f\"Displaying posts with {sentiment_filter} sentiment:\")\n",
    "st.dataframe(filtered_data)\n",
    "\n",
    "# Section 5: Word Cloud\n",
    "st.header(\"Word Cloud\")\n",
    "st.write(f\"Word cloud for posts with {sentiment_filter} sentiment:\")\n",
    "\n",
    "from wordcloud import WordCloud\n",
    "filtered_titles = \" \".join(filtered_data[\"Title\"])\n",
    "wordcloud = WordCloud(width=800, height=400, background_color=\"white\").generate(filtered_titles)\n",
    "\n",
    "fig, ax = plt.subplots(figsize=(10, 5))\n",
    "ax.imshow(wordcloud, interpolation=\"bilinear\")\n",
    "ax.axis(\"off\")\n",
    "st.pyplot(fig)"
   ]
  }
 ],
 "metadata": {
  "kernelspec": {
   "display_name": "Python 3 (ipykernel)",
   "language": "python",
   "name": "python3"
  },
  "language_info": {
   "codemirror_mode": {
    "name": "ipython",
    "version": 3
   },
   "file_extension": ".py",
   "mimetype": "text/x-python",
   "name": "python",
   "nbconvert_exporter": "python",
   "pygments_lexer": "ipython3",
   "version": "3.12.0"
  }
 },
 "nbformat": 4,
 "nbformat_minor": 5
}
